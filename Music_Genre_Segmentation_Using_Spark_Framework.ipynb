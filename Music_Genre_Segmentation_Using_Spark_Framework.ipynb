{
  "nbformat": 4,
  "nbformat_minor": 0,
  "metadata": {
    "colab": {
      "provenance": []
    },
    "kernelspec": {
      "name": "python3",
      "display_name": "Python 3"
    },
    "language_info": {
      "name": "python"
    }
  },
  "cells": [
    {
      "cell_type": "code",
      "execution_count": 1,
      "metadata": {
        "colab": {
          "base_uri": "https://localhost:8080/"
        },
        "id": "F9HIIGjtVTT_",
        "outputId": "eaadd255-5fd5-4575-9df9-b4fabda33abe"
      },
      "outputs": [
        {
          "output_type": "stream",
          "name": "stdout",
          "text": [
            "Collecting pyspark\n",
            "  Downloading pyspark-3.5.3.tar.gz (317.3 MB)\n",
            "\u001b[2K     \u001b[90m━━━━━━━━━━━━━━━━━━━━━━━━━━━━━━━━━━━━━━━━\u001b[0m \u001b[32m317.3/317.3 MB\u001b[0m \u001b[31m2.1 MB/s\u001b[0m eta \u001b[36m0:00:00\u001b[0m\n",
            "\u001b[?25h  Preparing metadata (setup.py) ... \u001b[?25l\u001b[?25hdone\n",
            "Requirement already satisfied: py4j==0.10.9.7 in /usr/local/lib/python3.10/dist-packages (from pyspark) (0.10.9.7)\n",
            "Building wheels for collected packages: pyspark\n",
            "  Building wheel for pyspark (setup.py) ... \u001b[?25l\u001b[?25hdone\n",
            "  Created wheel for pyspark: filename=pyspark-3.5.3-py2.py3-none-any.whl size=317840625 sha256=97617e081e38823696dd3e96cef797274d9dc5a52c2089f2325af628fc653d12\n",
            "  Stored in directory: /root/.cache/pip/wheels/1b/3a/92/28b93e2fbfdbb07509ca4d6f50c5e407f48dce4ddbda69a4ab\n",
            "Successfully built pyspark\n",
            "Installing collected packages: pyspark\n",
            "Successfully installed pyspark-3.5.3\n"
          ]
        }
      ],
      "source": [
        "# Step 1: Install and Configure PySpark\n",
        "!pip install pyspark\n"
      ]
    },
    {
      "cell_type": "code",
      "source": [
        "# Initialize a Spark session\n",
        "from pyspark.sql import SparkSession\n",
        "\n",
        "spark = SparkSession.builder.master(\"local[*]\").appName(\"SpotifyClustering\").getOrCreate()\n",
        "\n",
        "# Verify the Spark session\n",
        "spark\n"
      ],
      "metadata": {
        "colab": {
          "base_uri": "https://localhost:8080/",
          "height": 220
        },
        "id": "axY7v6rHVxQV",
        "outputId": "14f128e4-9621-4e0d-c6a7-d1d10845d878"
      },
      "execution_count": 2,
      "outputs": [
        {
          "output_type": "execute_result",
          "data": {
            "text/plain": [
              "<pyspark.sql.session.SparkSession at 0x785ec62a65f0>"
            ],
            "text/html": [
              "\n",
              "            <div>\n",
              "                <p><b>SparkSession - in-memory</b></p>\n",
              "                \n",
              "        <div>\n",
              "            <p><b>SparkContext</b></p>\n",
              "\n",
              "            <p><a href=\"http://d9ec25d6abdd:4040\">Spark UI</a></p>\n",
              "\n",
              "            <dl>\n",
              "              <dt>Version</dt>\n",
              "                <dd><code>v3.5.3</code></dd>\n",
              "              <dt>Master</dt>\n",
              "                <dd><code>local[*]</code></dd>\n",
              "              <dt>AppName</dt>\n",
              "                <dd><code>SpotifyClustering</code></dd>\n",
              "            </dl>\n",
              "        </div>\n",
              "        \n",
              "            </div>\n",
              "        "
            ]
          },
          "metadata": {},
          "execution_count": 2
        }
      ]
    },
    {
      "cell_type": "code",
      "source": [
        "# Step 2: Load Dataset\n",
        "df = spark.read.csv('/spotify dataset.csv', header=True, inferSchema=True)\n",
        "df.show(5)"
      ],
      "metadata": {
        "colab": {
          "base_uri": "https://localhost:8080/"
        },
        "id": "hUnayUf8WMbZ",
        "outputId": "6879d0bf-f166-43a1-ee80-a8285f82fa88"
      },
      "execution_count": 3,
      "outputs": [
        {
          "output_type": "stream",
          "name": "stdout",
          "text": [
            "+--------------------+--------------------+----------------+----------------+--------------------+--------------------+------------------------+-------------+--------------------+--------------+-----------------+------------+------+---+--------+----+-----------+------------+----------------+--------+-------+-------+-----------+\n",
            "|            track_id|          track_name|    track_artist|track_popularity|      track_album_id|    track_album_name|track_album_release_date|playlist_name|         playlist_id|playlist_genre|playlist_subgenre|danceability|energy|key|loudness|mode|speechiness|acousticness|instrumentalness|liveness|valence|  tempo|duration_ms|\n",
            "+--------------------+--------------------+----------------+----------------+--------------------+--------------------+------------------------+-------------+--------------------+--------------+-----------------+------------+------+---+--------+----+-----------+------------+----------------+--------+-------+-------+-----------+\n",
            "|6f807x0ima9a1j3VP...|I Don't Care (wit...|      Ed Sheeran|              66|2oCs0DGTsRO98Gh5Z...|I Don't Care (wit...|              2019-06-14|    Pop Remix|37i9dQZF1DXcZDD7c...|           pop|        dance pop|       0.748| 0.916|  6|  -2.634|   1|     0.0583|       0.102|             0.0|  0.0653|  0.518|122.036|   194754.0|\n",
            "|0r7CVbZTWZgbTCYdf...|Memories - Dillon...|        Maroon 5|              67|63rPSO264uRjW1X5E...|Memories (Dillon ...|              2019-12-13|    Pop Remix|37i9dQZF1DXcZDD7c...|           pop|        dance pop|       0.726| 0.815| 11|  -4.969|   1|     0.0373|      0.0724|         0.00421|   0.357|  0.693| 99.972|   162600.0|\n",
            "|1z1Hg7Vb0AhHDiEmn...|All the Time - Do...|    Zara Larsson|              70|1HoSmj2eLcsrR0vE9...|All the Time (Don...|              2019-07-05|    Pop Remix|37i9dQZF1DXcZDD7c...|           pop|        dance pop|       0.675| 0.931|  1|  -3.432|   0|     0.0742|      0.0794|         2.33E-5|    0.11|  0.613|124.008|   176616.0|\n",
            "|75FpbthrwQmzHlBJL...|Call You Mine - K...|The Chainsmokers|              60|1nqYsOef1yKKuGOVc...|Call You Mine - T...|              2019-07-19|    Pop Remix|37i9dQZF1DXcZDD7c...|           pop|        dance pop|       0.718|  0.93|  7|  -3.778|   1|      0.102|      0.0287|         9.43E-6|   0.204|  0.277|121.956|   169093.0|\n",
            "|1e8PAfcKUYoKkxPhr...|Someone You Loved...|   Lewis Capaldi|              69|7m7vv9wlQ4i0LFuJi...|Someone You Loved...|              2019-03-05|    Pop Remix|37i9dQZF1DXcZDD7c...|           pop|        dance pop|        0.65| 0.833|  1|  -4.672|   1|     0.0359|      0.0803|             0.0|  0.0833|  0.725|123.976|   189052.0|\n",
            "+--------------------+--------------------+----------------+----------------+--------------------+--------------------+------------------------+-------------+--------------------+--------------+-----------------+------------+------+---+--------+----+-----------+------------+----------------+--------+-------+-------+-----------+\n",
            "only showing top 5 rows\n",
            "\n"
          ]
        }
      ]
    },
    {
      "cell_type": "code",
      "source": [
        "# Step 3: Preprocess Data (cast columns and handle nulls)\n",
        "from pyspark.sql.functions import col\n",
        "\n",
        "# Cast the required columns to float\n",
        "df = df.withColumn(\"danceability\", col(\"danceability\").cast(\"float\")) \\\n",
        "       .withColumn(\"energy\", col(\"energy\").cast(\"float\")) \\\n",
        "       .withColumn(\"loudness\", col(\"loudness\").cast(\"float\")) \\\n",
        "       .withColumn(\"valence\", col(\"valence\").cast(\"float\")) \\\n",
        "       .withColumn(\"tempo\", col(\"tempo\").cast(\"float\"))\n",
        "\n",
        "# Verify the schema to ensure the columns are cast correctly\n",
        "df.printSchema()\n"
      ],
      "metadata": {
        "colab": {
          "base_uri": "https://localhost:8080/"
        },
        "id": "VhDDHqMjWtak",
        "outputId": "29532423-3877-463b-9919-29bd3828f292"
      },
      "execution_count": 4,
      "outputs": [
        {
          "output_type": "stream",
          "name": "stdout",
          "text": [
            "root\n",
            " |-- track_id: string (nullable = true)\n",
            " |-- track_name: string (nullable = true)\n",
            " |-- track_artist: string (nullable = true)\n",
            " |-- track_popularity: integer (nullable = true)\n",
            " |-- track_album_id: string (nullable = true)\n",
            " |-- track_album_name: string (nullable = true)\n",
            " |-- track_album_release_date: string (nullable = true)\n",
            " |-- playlist_name: string (nullable = true)\n",
            " |-- playlist_id: string (nullable = true)\n",
            " |-- playlist_genre: string (nullable = true)\n",
            " |-- playlist_subgenre: string (nullable = true)\n",
            " |-- danceability: float (nullable = true)\n",
            " |-- energy: float (nullable = true)\n",
            " |-- key: string (nullable = true)\n",
            " |-- loudness: float (nullable = true)\n",
            " |-- mode: string (nullable = true)\n",
            " |-- speechiness: double (nullable = true)\n",
            " |-- acousticness: double (nullable = true)\n",
            " |-- instrumentalness: double (nullable = true)\n",
            " |-- liveness: double (nullable = true)\n",
            " |-- valence: float (nullable = true)\n",
            " |-- tempo: float (nullable = true)\n",
            " |-- duration_ms: double (nullable = true)\n",
            "\n"
          ]
        }
      ]
    },
    {
      "cell_type": "code",
      "source": [
        "# Step 4: VectorAssembler for Features\n",
        "from pyspark.ml.feature import VectorAssembler\n",
        "\n",
        "# Define the features columns to be assembled\n",
        "# Replace with your desired feature columns from the DataFrame\n",
        "features = ['danceability', 'energy', 'loudness', 'valence', 'tempo']\n",
        "\n",
        "# Assemble the features into a single vector column\n",
        "assembler = VectorAssembler(inputCols=features, outputCol='features')\n",
        "assembled_df = assembler.transform(df)\n",
        "\n",
        "# Show the results\n",
        "assembled_df.select('features').show(5)"
      ],
      "metadata": {
        "colab": {
          "base_uri": "https://localhost:8080/"
        },
        "id": "HhliJbV9KCl0",
        "outputId": "3f4f2115-ba86-4f8c-84a8-aa9bd2dd660e"
      },
      "execution_count": 7,
      "outputs": [
        {
          "output_type": "stream",
          "name": "stdout",
          "text": [
            "+--------------------+\n",
            "|            features|\n",
            "+--------------------+\n",
            "|[0.74800002574920...|\n",
            "|[0.72600001096725...|\n",
            "|[0.67500001192092...|\n",
            "|[0.71799999475479...|\n",
            "|[0.64999997615814...|\n",
            "+--------------------+\n",
            "only showing top 5 rows\n",
            "\n"
          ]
        }
      ]
    },
    {
      "cell_type": "code",
      "source": [
        "# Remove rows with null values in the selected columns\n",
        "df_clean = df.dropna(subset=features)\n",
        "\n",
        "# Proceed with the VectorAssembler\n",
        "assembler = VectorAssembler(inputCols=features, outputCol='features')\n",
        "assembled_df = assembler.transform(df_clean)\n"
      ],
      "metadata": {
        "id": "T8xlcdG8XUQk"
      },
      "execution_count": 8,
      "outputs": []
    },
    {
      "cell_type": "code",
      "source": [
        "from pyspark.ml.feature import VectorAssembler\n",
        "\n",
        "# Set handleInvalid to 'skip' to ignore rows with null values\n",
        "assembler = VectorAssembler(inputCols=features, outputCol='features', handleInvalid='skip')\n",
        "assembled_df = assembler.transform(df)\n",
        "\n",
        "# Proceed with the KMeans model\n",
        "from pyspark.ml.clustering import KMeans\n",
        "kmeans = KMeans(k=5, seed=1)  # Assuming 5 clusters\n",
        "model = kmeans.fit(assembled_df)\n",
        "\n",
        "# Make predictions\n",
        "predictions = model.transform(assembled_df)\n",
        "predictions.show(5)\n"
      ],
      "metadata": {
        "colab": {
          "base_uri": "https://localhost:8080/"
        },
        "id": "TrNicqJDXVYZ",
        "outputId": "42b4ced1-3f0f-49b2-c215-c1b04b8a2b8f"
      },
      "execution_count": 9,
      "outputs": [
        {
          "output_type": "stream",
          "name": "stdout",
          "text": [
            "+--------------------+--------------------+----------------+----------------+--------------------+--------------------+------------------------+-------------+--------------------+--------------+-----------------+------------+------+---+--------+----+-----------+------------+----------------+--------+-------+-------+-----------+--------------------+----------+\n",
            "|            track_id|          track_name|    track_artist|track_popularity|      track_album_id|    track_album_name|track_album_release_date|playlist_name|         playlist_id|playlist_genre|playlist_subgenre|danceability|energy|key|loudness|mode|speechiness|acousticness|instrumentalness|liveness|valence|  tempo|duration_ms|            features|prediction|\n",
            "+--------------------+--------------------+----------------+----------------+--------------------+--------------------+------------------------+-------------+--------------------+--------------+-----------------+------------+------+---+--------+----+-----------+------------+----------------+--------+-------+-------+-----------+--------------------+----------+\n",
            "|6f807x0ima9a1j3VP...|I Don't Care (wit...|      Ed Sheeran|              66|2oCs0DGTsRO98Gh5Z...|I Don't Care (wit...|              2019-06-14|    Pop Remix|37i9dQZF1DXcZDD7c...|           pop|        dance pop|       0.748| 0.916|  6|  -2.634|   1|     0.0583|       0.102|             0.0|  0.0653|  0.518|122.036|   194754.0|[0.74800002574920...|         1|\n",
            "|0r7CVbZTWZgbTCYdf...|Memories - Dillon...|        Maroon 5|              67|63rPSO264uRjW1X5E...|Memories (Dillon ...|              2019-12-13|    Pop Remix|37i9dQZF1DXcZDD7c...|           pop|        dance pop|       0.726| 0.815| 11|  -4.969|   1|     0.0373|      0.0724|         0.00421|   0.357|  0.693| 99.972|   162600.0|[0.72600001096725...|         4|\n",
            "|1z1Hg7Vb0AhHDiEmn...|All the Time - Do...|    Zara Larsson|              70|1HoSmj2eLcsrR0vE9...|All the Time (Don...|              2019-07-05|    Pop Remix|37i9dQZF1DXcZDD7c...|           pop|        dance pop|       0.675| 0.931|  1|  -3.432|   0|     0.0742|      0.0794|         2.33E-5|    0.11|  0.613|124.008|   176616.0|[0.67500001192092...|         1|\n",
            "|75FpbthrwQmzHlBJL...|Call You Mine - K...|The Chainsmokers|              60|1nqYsOef1yKKuGOVc...|Call You Mine - T...|              2019-07-19|    Pop Remix|37i9dQZF1DXcZDD7c...|           pop|        dance pop|       0.718|  0.93|  7|  -3.778|   1|      0.102|      0.0287|         9.43E-6|   0.204|  0.277|121.956|   169093.0|[0.71799999475479...|         1|\n",
            "|1e8PAfcKUYoKkxPhr...|Someone You Loved...|   Lewis Capaldi|              69|7m7vv9wlQ4i0LFuJi...|Someone You Loved...|              2019-03-05|    Pop Remix|37i9dQZF1DXcZDD7c...|           pop|        dance pop|        0.65| 0.833|  1|  -4.672|   1|     0.0359|      0.0803|             0.0|  0.0833|  0.725|123.976|   189052.0|[0.64999997615814...|         1|\n",
            "+--------------------+--------------------+----------------+----------------+--------------------+--------------------+------------------------+-------------+--------------------+--------------+-----------------+------------+------+---+--------+----+-----------+------------+----------------+--------+-------+-------+-----------+--------------------+----------+\n",
            "only showing top 5 rows\n",
            "\n"
          ]
        }
      ]
    },
    {
      "cell_type": "code",
      "source": [
        "# Step 5: KMeans Clustering\n",
        "from pyspark.ml.evaluation import ClusteringEvaluator\n",
        "\n",
        "# Evaluate clustering by computing Silhouette score\n",
        "evaluator = ClusteringEvaluator()\n",
        "silhouette = evaluator.evaluate(predictions)\n",
        "print(f\"Silhouette with squared euclidean distance = {silhouette}\")\n"
      ],
      "metadata": {
        "colab": {
          "base_uri": "https://localhost:8080/"
        },
        "id": "9veoYP16bz50",
        "outputId": "c0d1b9a0-eb51-4232-ea69-bb594f67a053"
      },
      "execution_count": 10,
      "outputs": [
        {
          "output_type": "stream",
          "name": "stdout",
          "text": [
            "Silhouette with squared euclidean distance = 0.6967775462321066\n"
          ]
        }
      ]
    },
    {
      "cell_type": "code",
      "source": [
        "# Show the cluster centers\n",
        "centers = model.clusterCenters()\n",
        "print(\"Cluster Centers: \")\n",
        "for center in centers:\n",
        "    print(center)\n"
      ],
      "metadata": {
        "colab": {
          "base_uri": "https://localhost:8080/"
        },
        "id": "b1h0Ml9ub59e",
        "outputId": "b6d743f6-ac8d-4dc1-fef9-a0a35c13b04a"
      },
      "execution_count": 11,
      "outputs": [
        {
          "output_type": "stream",
          "name": "stdout",
          "text": [
            "Cluster Centers: \n",
            "[ 0.62640349  0.60095969 -7.66511222  0.50922444 83.37024782]\n",
            "[  0.6726747    0.74272264  -6.40089288   0.47961275 124.45145554]\n",
            "[  0.56418322   0.70415614  -6.47464656   0.54527556 175.00150076]\n",
            "[  0.61921577   0.69514067  -6.77198221   0.48880789 144.74776343]\n",
            "[  0.70195254   0.68952582  -6.71540769   0.55439461 101.16103458]\n"
          ]
        }
      ]
    },
    {
      "cell_type": "code",
      "source": [
        "from pyspark.ml.feature import PCA\n",
        "import matplotlib.pyplot as plt\n",
        "import pandas as pd\n",
        "\n",
        "# Perform PCA to reduce to 2 dimensions for visualization\n",
        "pca = PCA(k=2, inputCol=\"features\", outputCol=\"pca_features\")\n",
        "pca_model = pca.fit(assembled_df)\n",
        "pca_result = pca_model.transform(assembled_df)\n",
        "\n",
        "# Convert PCA results to Pandas for plotting\n",
        "pca_df = pca_result.select(\"pca_features\").toPandas()\n",
        "pca_values = pca_df['pca_features'].apply(pd.Series)\n",
        "\n",
        "# Add predictions to the PCA data\n",
        "pca_values['cluster'] = predictions.select('prediction').toPandas()\n",
        "\n",
        "# Plotting the PCA-reduced clusters\n",
        "plt.scatter(pca_values[0], pca_values[1], c=pca_values['cluster'])\n",
        "plt.xlabel('PCA 1')\n",
        "plt.ylabel('PCA 2')\n",
        "plt.title('PCA-Reduced Cluster Visualization')\n",
        "plt.show()\n"
      ],
      "metadata": {
        "colab": {
          "base_uri": "https://localhost:8080/",
          "height": 472
        },
        "id": "p-MOudxqX4Qj",
        "outputId": "f59759c3-c1a0-4dc3-b0ba-3fe9d78c5bf1"
      },
      "execution_count": 12,
      "outputs": [
        {
          "output_type": "display_data",
          "data": {
            "text/plain": [
              "<Figure size 640x480 with 1 Axes>"
            ],
            "image/png": "[encoded data removed]"
          },
          "metadata": {}
        }
      ]
    },
    {
      "cell_type": "code",
      "source": [
        "# Step 6:Save the clustered results\n",
        "predictions.select('track_name', 'prediction').write.csv('/content/clustered_spotify_songs.csv')\n"
      ],
      "metadata": {
        "id": "hHLA823cYHgZ"
      },
      "execution_count": 13,
      "outputs": []
    },
    {
      "cell_type": "code",
      "source": [
        "!pip install pyspark pandas\n"
      ],
      "metadata": {
        "colab": {
          "base_uri": "https://localhost:8080/"
        },
        "id": "dqH03nSEKaO1",
        "outputId": "f4366ebc-65de-4a76-87e1-a2db6edb467f"
      },
      "execution_count": 14,
      "outputs": [
        {
          "output_type": "stream",
          "name": "stdout",
          "text": [
            "Requirement already satisfied: pyspark in /usr/local/lib/python3.10/dist-packages (3.5.3)\n",
            "Requirement already satisfied: pandas in /usr/local/lib/python3.10/dist-packages (2.2.2)\n",
            "Requirement already satisfied: py4j==0.10.9.7 in /usr/local/lib/python3.10/dist-packages (from pyspark) (0.10.9.7)\n",
            "Requirement already satisfied: numpy>=1.22.4 in /usr/local/lib/python3.10/dist-packages (from pandas) (1.26.4)\n",
            "Requirement already satisfied: python-dateutil>=2.8.2 in /usr/local/lib/python3.10/dist-packages (from pandas) (2.8.2)\n",
            "Requirement already satisfied: pytz>=2020.1 in /usr/local/lib/python3.10/dist-packages (from pandas) (2024.2)\n",
            "Requirement already satisfied: tzdata>=2022.7 in /usr/local/lib/python3.10/dist-packages (from pandas) (2024.2)\n",
            "Requirement already satisfied: six>=1.5 in /usr/local/lib/python3.10/dist-packages (from python-dateutil>=2.8.2->pandas) (1.16.0)\n"
          ]
        }
      ]
    },
    {
      "cell_type": "code",
      "source": [
        "# Import necessary libraries\n",
        "import pandas as pd\n",
        "from sklearn.metrics.pairwise import cosine_similarity\n",
        "from sklearn.preprocessing import MinMaxScaler\n",
        "from pyspark.sql import SparkSession\n",
        "from pyspark.ml.recommendation import ALS\n",
        "from pyspark.ml.evaluation import RegressionEvaluator\n",
        "from pyspark.ml.tuning import ParamGridBuilder, CrossValidator\n",
        "\n",
        "# Upload the dataset\n",
        "from google.colab import files\n",
        "uploaded = files.upload()\n",
        "\n",
        "# Load the dataset\n",
        "file_path = list(uploaded.keys())[0]\n",
        "data = pd.read_csv(file_path)\n",
        "\n",
        "# Display first few rows of the dataset to understand its structure\n",
        "data.head()\n",
        "\n",
        "# Preprocess Data for ALS (Collaborative Filtering):\n",
        "# Simulate 'userId', 'trackId', and use 'track_popularity' as 'rating'\n",
        "data['userId'] = pd.factorize(data['playlist_id'])[0]\n",
        "data['trackId'] = pd.factorize(data['track_id'])[0]\n",
        "data['rating'] = data['track_popularity']  # Use track popularity as a proxy for rating\n",
        "\n",
        "# Start Spark session\n",
        "spark = SparkSession.builder.master(\"local\").appName(\"SpotifyRecommendation\").getOrCreate()\n",
        "\n",
        "# Convert to Spark DataFrame for ALS\n",
        "data_spark = spark.createDataFrame(data[['userId', 'trackId', 'rating']])\n",
        "\n",
        "# Build the ALS model (Collaborative Filtering)\n",
        "als = ALS(maxIter=10, regParam=0.1, userCol=\"userId\", itemCol=\"trackId\", ratingCol=\"rating\", coldStartStrategy=\"drop\")\n",
        "model = als.fit(data_spark)\n",
        "\n",
        "# Function for ALS recommendations (user-based)\n",
        "def get_als_recommendations():\n",
        "    # Generate top 10 recommendations for all users\n",
        "    user_recommendations = model.recommendForAllUsers(10)\n",
        "    user_recommendations.show()\n",
        "\n",
        "    # Evaluate the model\n",
        "    evaluator = RegressionEvaluator(metricName=\"rmse\", labelCol=\"rating\", predictionCol=\"prediction\")\n",
        "    predictions = model.transform(data_spark)\n",
        "    rmse = evaluator.evaluate(predictions)\n",
        "    print(f\"Root Mean Squared Error (RMSE): {rmse}\")\n",
        "\n",
        "# Preprocess Data for Content-Based Filtering (Song-Based)\n",
        "# We'll use 'tempo', 'loudness', 'valence', 'danceability', 'energy', 'acousticness'\n",
        "features = ['tempo', 'loudness', 'valence', 'danceability', 'energy', 'acousticness']\n",
        "\n",
        "# Drop rows with missing values for these features\n",
        "data_cleaned = data.dropna(subset=features)\n",
        "\n",
        "# Normalize the features for similarity calculation\n",
        "scaler = MinMaxScaler()\n",
        "data_cleaned[features] = scaler.fit_transform(data_cleaned[features])\n",
        "\n",
        "# Function for content-based recommendations (song-based)\n",
        "def get_song_recommendations(track_name, num_recommendations=10):\n",
        "    # Find the song in the dataset\n",
        "    song_data = data_cleaned[data_cleaned['track_name'].str.lower() == track_name.lower()]\n",
        "\n",
        "    if song_data.empty:\n",
        "        return \"Song not found in the dataset.\"\n",
        "\n",
        "    # Get the index of the selected song\n",
        "    song_index = song_data.index[0]\n",
        "\n",
        "    # Compute cosine similarity between the selected song and all other songs\n",
        "    cosine_sim = cosine_similarity([data_cleaned.loc[song_index, features]], data_cleaned[features])\n",
        "\n",
        "    # Get the top N most similar songs (excluding the song itself)\n",
        "    similar_songs = cosine_sim.argsort()[0][-num_recommendations-1:-1][::-1]\n",
        "\n",
        "    # Return the top similar songs\n",
        "    return data_cleaned.iloc[similar_songs][['track_name', 'track_artist', 'playlist_genre', 'track_popularity']]\n",
        "\n",
        "# Main Function to choose between ALS and Content-Based Filtering\n",
        "def main():\n",
        "    print(\"Welcome to the Spotify Recommendation System!\")\n",
        "    print(\"1. User-based recommendation (Collaborative Filtering using ALS)\")\n",
        "    print(\"2. Song-based recommendation (Content-based Filtering using cosine similarity)\")\n",
        "\n",
        "    choice = input(\"Enter 1 or 2 to choose the recommendation system: \")\n",
        "\n",
        "    if choice == '1':\n",
        "        print(\"You chose User-based recommendation system.\")\n",
        "        get_als_recommendations()\n",
        "\n",
        "    elif choice == '2':\n",
        "        track_name = input(\"Enter the name of the song you want recommendations for: \")\n",
        "        recommended_songs = get_song_recommendations(track_name, num_recommendations=10)\n",
        "\n",
        "        if isinstance(recommended_songs, str):\n",
        "            print(recommended_songs)\n",
        "        else:\n",
        "            print(\"Recommended songs based on\", track_name)\n",
        "            print(recommended_songs)\n",
        "    else:\n",
        "        print(\"Invalid choice. Please enter 1 or 2.\")\n",
        "\n",
        "\n"
      ],
      "metadata": {
        "colab": {
          "base_uri": "https://localhost:8080/",
          "height": 588
        },
        "id": "2jLdnDUPMZen",
        "outputId": "17a52f39-7f19-44fe-ae25-5e705380d6af"
      },
      "execution_count": 17,
      "outputs": [
        {
          "output_type": "display_data",
          "data": {
            "text/plain": [
              "<IPython.core.display.HTML object>"
            ],
            "text/html": [
              "\n",
              "     <input type=\"file\" id=\"files-20228ed0-d8af-4cc7-a96d-38c4b1084317\" name=\"files[]\" multiple disabled\n",
              "        style=\"border:none\" />\n",
              "     <output id=\"result-20228ed0-d8af-4cc7-a96d-38c4b1084317\">\n",
              "      Upload widget is only available when the cell has been executed in the\n",
              "      current browser session. Please rerun this cell to enable.\n",
              "      </output>\n",
              "      <script>// Copyright 2017 Google LLC\n",
              "//\n",
              "// Licensed under the Apache License, Version 2.0 (the \"License\");\n",
              "// you may not use this file except in compliance with the License.\n",
              "// You may obtain a copy of the License at\n",
              "//\n",
              "//      http://www.apache.org/licenses/LICENSE-2.0\n",
              "//\n",
              "// Unless required by applicable law or agreed to in writing, software\n",
              "// distributed under the License is distributed on an \"AS IS\" BASIS,\n",
              "// WITHOUT WARRANTIES OR CONDITIONS OF ANY KIND, either express or implied.\n",
              "// See the License for the specific language governing permissions and\n",
              "// limitations under the License.\n",
              "\n",
              "/**\n",
              " * @fileoverview Helpers for google.colab Python module.\n",
              " */\n",
              "(function(scope) {\n",
              "function span(text, styleAttributes = {}) {\n",
              "  const element = document.createElement('span');\n",
              "  element.textContent = text;\n",
              "  for (const key of Object.keys(styleAttributes)) {\n",
              "    element.style[key] = styleAttributes[key];\n",
              "  }\n",
              "  return element;\n",
              "}\n",
              "\n",
              "// Max number of bytes which will be uploaded at a time.\n",
              "const MAX_PAYLOAD_SIZE = 100 * 1024;\n",
              "\n",
              "function _uploadFiles(inputId, outputId) {\n",
              "  const steps = uploadFilesStep(inputId, outputId);\n",
              "  const outputElement = document.getElementById(outputId);\n",
              "  // Cache steps on the outputElement to make it available for the next call\n",
              "  // to uploadFilesContinue from Python.\n",
              "  outputElement.steps = steps;\n",
              "\n",
              "  return _uploadFilesContinue(outputId);\n",
              "}\n",
              "\n",
              "// This is roughly an async generator (not supported in the browser yet),\n",
              "// where there are multiple asynchronous steps and the Python side is going\n",
              "// to poll for completion of each step.\n",
              "// This uses a Promise to block the python side on completion of each step,\n",
              "// then passes the result of the previous step as the input to the next step.\n",
              "function _uploadFilesContinue(outputId) {\n",
              "  const outputElement = document.getElementById(outputId);\n",
              "  const steps = outputElement.steps;\n",
              "\n",
              "  const next = steps.next(outputElement.lastPromiseValue);\n",
              "  return Promise.resolve(next.value.promise).then((value) => {\n",
              "    // Cache the last promise value to make it available to the next\n",
              "    // step of the generator.\n",
              "    outputElement.lastPromiseValue = value;\n",
              "    return next.value.response;\n",
              "  });\n",
              "}\n",
              "\n",
              "/**\n",
              " * Generator function which is called between each async step of the upload\n",
              " * process.\n",
              " * @param {string} inputId Element ID of the input file picker element.\n",
              " * @param {string} outputId Element ID of the output display.\n",
              " * @return {!Iterable<!Object>} Iterable of next steps.\n",
              " */\n",
              "function* uploadFilesStep(inputId, outputId) {\n",
              "  const inputElement = document.getElementById(inputId);\n",
              "  inputElement.disabled = false;\n",
              "\n",
              "  const outputElement = document.getElementById(outputId);\n",
              "  outputElement.innerHTML = '';\n",
              "\n",
              "  const pickedPromise = new Promise((resolve) => {\n",
              "    inputElement.addEventListener('change', (e) => {\n",
              "      resolve(e.target.files);\n",
              "    });\n",
              "  });\n",
              "\n",
              "  const cancel = document.createElement('button');\n",
              "  inputElement.parentElement.appendChild(cancel);\n",
              "  cancel.textContent = 'Cancel upload';\n",
              "  const cancelPromise = new Promise((resolve) => {\n",
              "    cancel.onclick = () => {\n",
              "      resolve(null);\n",
              "    };\n",
              "  });\n",
              "\n",
              "  // Wait for the user to pick the files.\n",
              "  const files = yield {\n",
              "    promise: Promise.race([pickedPromise, cancelPromise]),\n",
              "    response: {\n",
              "      action: 'starting',\n",
              "    }\n",
              "  };\n",
              "\n",
              "  cancel.remove();\n",
              "\n",
              "  // Disable the input element since further picks are not allowed.\n",
              "  inputElement.disabled = true;\n",
              "\n",
              "  if (!files) {\n",
              "    return {\n",
              "      response: {\n",
              "        action: 'complete',\n",
              "      }\n",
              "    };\n",
              "  }\n",
              "\n",
              "  for (const file of files) {\n",
              "    const li = document.createElement('li');\n",
              "    li.append(span(file.name, {fontWeight: 'bold'}));\n",
              "    li.append(span(\n",
              "        `(${file.type || 'n/a'}) - ${file.size} bytes, ` +\n",
              "        `last modified: ${\n",
              "            file.lastModifiedDate ? file.lastModifiedDate.toLocaleDateString() :\n",
              "                                    'n/a'} - `));\n",
              "    const percent = span('0% done');\n",
              "    li.appendChild(percent);\n",
              "\n",
              "    outputElement.appendChild(li);\n",
              "\n",
              "    const fileDataPromise = new Promise((resolve) => {\n",
              "      const reader = new FileReader();\n",
              "      reader.onload = (e) => {\n",
              "        resolve(e.target.result);\n",
              "      };\n",
              "      reader.readAsArrayBuffer(file);\n",
              "    });\n",
              "    // Wait for the data to be ready.\n",
              "    let fileData = yield {\n",
              "      promise: fileDataPromise,\n",
              "      response: {\n",
              "        action: 'continue',\n",
              "      }\n",
              "    };\n",
              "\n",
              "    // Use a chunked sending to avoid message size limits. See b/62115660.\n",
              "    let position = 0;\n",
              "    do {\n",
              "      const length = Math.min(fileData.byteLength - position, MAX_PAYLOAD_SIZE);\n",
              "      const chunk = new Uint8Array(fileData, position, length);\n",
              "      position += length;\n",
              "\n",
              "      const base64 = btoa(String.fromCharCode.apply(null, chunk));\n",
              "      yield {\n",
              "        response: {\n",
              "          action: 'append',\n",
              "          file: file.name,\n",
              "          data: base64,\n",
              "        },\n",
              "      };\n",
              "\n",
              "      let percentDone = fileData.byteLength === 0 ?\n",
              "          100 :\n",
              "          Math.round((position / fileData.byteLength) * 100);\n",
              "      percent.textContent = `${percentDone}% done`;\n",
              "\n",
              "    } while (position < fileData.byteLength);\n",
              "  }\n",
              "\n",
              "  // All done.\n",
              "  yield {\n",
              "    response: {\n",
              "      action: 'complete',\n",
              "    }\n",
              "  };\n",
              "}\n",
              "\n",
              "scope.google = scope.google || {};\n",
              "scope.google.colab = scope.google.colab || {};\n",
              "scope.google.colab._files = {\n",
              "  _uploadFiles,\n",
              "  _uploadFilesContinue,\n",
              "};\n",
              "})(self);\n",
              "</script> "
            ]
          },
          "metadata": {}
        },
        {
          "output_type": "stream",
          "name": "stdout",
          "text": [
            "Saving spotify dataset.csv to spotify dataset (2).csv\n",
            "Welcome to the Spotify Recommendation System!\n",
            "1. User-based recommendation (Collaborative Filtering using ALS)\n",
            "2. Song-based recommendation (Content-based Filtering using cosine similarity)\n",
            "Enter 1 or 2 to choose the recommendation system: 2\n",
            "Enter the name of the song you want recommendations for: Shape of you\n",
            "Recommended songs based on Shape of you\n",
            "               track_name                  track_artist playlist_genre  \\\n",
            "17488        Shape of You                    Ed Sheeran          latin   \n",
            "23867        Shape of You                    Ed Sheeran            r&b   \n",
            "23899        Shape of You                    Ed Sheeran            r&b   \n",
            "1218         Shape of You                    Ed Sheeran            pop   \n",
            "2317         Shape of You                    Ed Sheeran            pop   \n",
            "2838         Shape of You                    Ed Sheeran            pop   \n",
            "8533   Surrounded By Hoes                       50 Cent            rap   \n",
            "20506            Brujeria  El Gran Combo De Puerto Rico          latin   \n",
            "18539            Brujeria  El Gran Combo De Puerto Rico          latin   \n",
            "26451     Daddy's Got You                 Sunny Hawkins            r&b   \n",
            "\n",
            "       track_popularity  \n",
            "17488                75  \n",
            "23867                75  \n",
            "23899                86  \n",
            "1218                 86  \n",
            "2317                 86  \n",
            "2838                 86  \n",
            "8533                 30  \n",
            "20506                55  \n",
            "18539                55  \n",
            "26451                 4  \n"
          ]
        }
      ]
    },
    {
      "cell_type": "code",
      "source": [
        "# Run the main function\n",
        "main()"
      ],
      "metadata": {
        "colab": {
          "base_uri": "https://localhost:8080/"
        },
        "id": "b0ZRjmZbODza",
        "outputId": "f6ab28c7-6886-4b69-e7f6-d721b706b1c1"
      },
      "execution_count": 18,
      "outputs": [
        {
          "output_type": "stream",
          "name": "stdout",
          "text": [
            "Welcome to the Spotify Recommendation System!\n",
            "1. User-based recommendation (Collaborative Filtering using ALS)\n",
            "2. Song-based recommendation (Content-based Filtering using cosine similarity)\n",
            "Enter 1 or 2 to choose the recommendation system: 1\n",
            "You chose User-based recommendation system.\n",
            "+------+--------------------+\n",
            "|userId|     recommendations|\n",
            "+------+--------------------+\n",
            "|     0|[{41, 87.915306},...|\n",
            "|     1|[{335, 98.24785},...|\n",
            "|     2|[{179, 90.07329},...|\n",
            "|     3|[{8444, 93.529335...|\n",
            "|     4|[{8444, 89.21824}...|\n",
            "|     5|[{344, 94.87983},...|\n",
            "|     6|[{139, 75.29366},...|\n",
            "|     7|[{716, 96.83272},...|\n",
            "|     8|[{157, 86.21298},...|\n",
            "|     9|[{179, 96.21013},...|\n",
            "|    10|[{100, 97.97541},...|\n",
            "|    11|[{1326, 103.22472...|\n",
            "|    12|[{784, 78.96906},...|\n",
            "|    13|[{19550, 61.30101...|\n",
            "|    14|[{16753, 92.52226...|\n",
            "|    15|[{10462, 76.80018...|\n",
            "|    16|[{1123, 79.63404}...|\n",
            "|    17|[{1308, 99.69892}...|\n",
            "|    18|[{2873, 98.24344}...|\n",
            "|    19|[{1289, 81.99814}...|\n",
            "+------+--------------------+\n",
            "only showing top 20 rows\n",
            "\n",
            "Root Mean Squared Error (RMSE): 0.23103531194951044\n"
          ]
        }
      ]
    }
  ]
}